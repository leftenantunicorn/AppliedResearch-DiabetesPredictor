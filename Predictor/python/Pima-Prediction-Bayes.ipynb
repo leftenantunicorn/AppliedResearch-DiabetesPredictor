{
 "cells": [
  {
   "cell_type": "code",
   "execution_count": 3,
   "metadata": {
    "collapsed": false
   },
   "outputs": [],
   "source": [
    "import pandas as pd\n",
    "import numpy as np\n",
    "import matplotlib.pyplot as plt\n",
    "from sklearn import metrics\n",
    "from mlxtend.plotting import plot_confusion_matrix\n",
    "import simplejson as json\n",
    "\n",
    "df = pd.read_csv(\"pima-data.csv\")"
   ]
  },
  {
   "cell_type": "code",
   "execution_count": 4,
   "metadata": {
    "collapsed": false
   },
   "outputs": [
    {
     "name": "stderr",
     "output_type": "stream",
     "text": [
      "C:\\Users\\Erin\\Anaconda3\\lib\\site-packages\\sklearn\\cross_validation.py:41: DeprecationWarning: This module was deprecated in version 0.18 in favor of the model_selection module into which all the refactored classes and functions are moved. Also note that the interface of the new CV iterators are different from that of this module. This module will be removed in 0.20.\n",
      "  \"This module will be removed in 0.20.\", DeprecationWarning)\n"
     ]
    }
   ],
   "source": [
    "from sklearn.cross_validation import train_test_split\n",
    "\n",
    "feature_col_names = ['num_preg', 'glucose_conc', 'diastolic_bp', 'thickness', 'insulin', 'bmi', 'diab_pred', 'age']\n",
    "predicted_class_names = ['diabetes']\n",
    "\n",
    "X = df[feature_col_names].values\n",
    "y = df[predicted_class_names].values\n",
    "split_test_size = 0.20\n",
    "\n",
    "X_train, X_test, y_train, y_test = train_test_split(X, y, test_size=split_test_size, random_state=73) "
   ]
  },
  {
   "cell_type": "code",
   "execution_count": 5,
   "metadata": {
    "collapsed": true
   },
   "outputs": [],
   "source": [
    "from sklearn.preprocessing import Imputer\n",
    "\n",
    "fill_0 = Imputer(missing_values=0, strategy=\"mean\", axis=0)\n",
    "\n",
    "X_train = fill_0.fit_transform(X_train)\n",
    "X_test = fill_0.fit_transform(X_test)"
   ]
  },
  {
   "cell_type": "code",
   "execution_count": 6,
   "metadata": {
    "collapsed": false
   },
   "outputs": [],
   "source": [
    "from sklearn.naive_bayes import GaussianNB\n",
    "\n",
    "# create Gaussian Naive Bayes model object and train it with the data\n",
    "nb_model = GaussianNB()\n",
    "\n",
    "nb_model.fit(X_train, y_train.ravel())\n",
    "\n",
    "\n",
    "nb_predict_train = nb_model.predict(X_train)\n",
    "nb_predict_test = nb_model.predict(X_test)\n"
   ]
  },
  {
   "cell_type": "code",
   "execution_count": 7,
   "metadata": {
    "collapsed": true
   },
   "outputs": [],
   "source": [
    "def predictSingleRecord(record):\n",
    "    X_single = np.array(record).reshape(1,8)\n",
    "    return nb_model.predict_proba(X_single)"
   ]
  },
  {
   "cell_type": "code",
   "execution_count": 8,
   "metadata": {
    "collapsed": false
   },
   "outputs": [
    {
     "name": "stdout",
     "output_type": "stream",
     "text": [
      "[[ 0.  1.]]\n"
     ]
    }
   ],
   "source": [
    "print(predictSingleRecord([100,100,100,100,100,100,100,100]))"
   ]
  },
  {
   "cell_type": "code",
   "execution_count": 9,
   "metadata": {
    "collapsed": false
   },
   "outputs": [],
   "source": [
    "conf_arr = metrics.confusion_matrix(y_test, nb_predict_test)"
   ]
  },
  {
   "cell_type": "code",
   "execution_count": 10,
   "metadata": {
    "collapsed": false
   },
   "outputs": [
    {
     "data": {
      "image/png": "[encoded data removed]",
      "text/plain": [
       "<matplotlib.figure.Figure at 0x1d29ed31630>"
      ]
     },
     "metadata": {},
     "output_type": "display_data"
    }
   ],
   "source": [
    "fig, ax = plot_confusion_matrix(conf_mat=conf_arr)\n",
    "ax.set_title('Confusion Matrix')\n",
    "plt.show()\n",
    "\n",
    "conf_array = metrics.confusion_matrix(y_test, nb_predict_test)\n",
    "true_pos = conf_array[1][1]\n",
    "true_neg = conf_array[0][0]\n",
    "false_pos = conf_array[0][1]\n",
    "false_neg  = conf_array[1][0]"
   ]
  },
  {
   "cell_type": "code",
   "execution_count": 11,
   "metadata": {
    "collapsed": false
   },
   "outputs": [
    {
     "name": "stdout",
     "output_type": "stream",
     "text": [
      "0.631578947368\n",
      "24\n",
      "89\n",
      "14\n",
      "27\n"
     ]
    }
   ],
   "source": [
    "print(metrics.precision_score(y_test, nb_predict_test))\n",
    "print(true_pos)\n",
    "print(true_neg)\n",
    "print(false_pos)\n",
    "print(false_neg)"
   ]
  },
  {
   "cell_type": "code",
   "execution_count": 12,
   "metadata": {
    "collapsed": false
   },
   "outputs": [
    {
     "name": "stdout",
     "output_type": "stream",
     "text": [
      "<class 'numpy.float64'>\n",
      "{\"accuracy\": 0.7337662337662337, \"sensitvity\": 0.47058823529411764, \"specificity\": 0.8640776699029126, \"conf\": {\"true_neg\": 89, \"false_pos\": 14, \"true_pos\": 24, \"false_neg\": 27}, \"precision\": 0.631578947368421}\n"
     ]
    }
   ],
   "source": [
    "true_pos = conf_array[1][1]\n",
    "true_neg = conf_array[0][0]\n",
    "false_pos = conf_array[0][1]\n",
    "false_neg  = conf_array[1][0]\n",
    "\n",
    "data = {'conf' : {\n",
    "            'true_pos' : np.int64(true_pos).item(),\n",
    "            'true_neg' : np.int64(true_neg).item(),\n",
    "            'false_pos' : np.int64(false_pos).item(),\n",
    "            'false_neg'  : np.int64(false_neg).item(),\n",
    "            }, \n",
    "        'precision' : metrics.precision_score(y_test, nb_predict_test),\n",
    "        'sensitvity' : metrics.recall_score(y_test, nb_predict_test),\n",
    "        'specificity' : true_neg/(true_neg + false_pos),\n",
    "        'accuracy' : metrics.accuracy_score(y_test, nb_predict_test)\n",
    "       }\n",
    "print(type(data['precision']))\n",
    "print(json.dumps(data))\n"
   ]
  },
  {
   "cell_type": "code",
   "execution_count": 13,
   "metadata": {
    "collapsed": false
   },
   "outputs": [
    {
     "name": "stdout",
     "output_type": "stream",
     "text": [
      "{'accuracy': 0.73376623376623373, 'sensitvity': 0.47058823529411764, 'specificity': 0.86407766990291257, 'conf': {'true_neg': 89, 'false_pos': 14, 'true_pos': 24, 'false_neg': 27}, 'precision': 0.63157894736842102}"
     ]
    }
   ],
   "source": [
    "    conf_array = metrics.confusion_matrix(y_test, nb_predict_test)\n",
    "    nb_predict_test = nb_model.predict(X_test)\n",
    "    \n",
    "    true_pos = conf_array[1][1]\n",
    "    true_neg = conf_array[0][0]\n",
    "    false_pos = conf_array[0][1]\n",
    "    false_neg  = conf_array[1][0]\n",
    "\n",
    "    data = {'conf' : {\n",
    "                'true_pos' : np.int64(true_pos).item(),\n",
    "                'true_neg' : np.int64(true_neg).item(),\n",
    "                'false_pos' : np.int64(false_pos).item(),\n",
    "                'false_neg'  : np.int64(false_neg).item(),\n",
    "                }, \n",
    "            'precision' : metrics.precision_score(y_test, nb_predict_test),\n",
    "            'sensitvity' : metrics.recall_score(y_test, nb_predict_test),\n",
    "            'specificity' : true_neg/(true_neg + false_pos),\n",
    "            'accuracy' : metrics.accuracy_score(y_test, nb_predict_test)\n",
    "           }\n",
    "    print(data, end=\"\")"
   ]
  },
  {
   "cell_type": "code",
   "execution_count": null,
   "metadata": {
    "collapsed": true
   },
   "outputs": [],
   "source": []
  }
 ],
 "metadata": {
  "anaconda-cloud": {},
  "kernelspec": {
   "display_name": "Python [default]",
   "language": "python",
   "name": "python3"
  },
  "language_info": {
   "codemirror_mode": {
    "name": "ipython",
    "version": 3
   },
   "file_extension": ".py",
   "mimetype": "text/x-python",
   "name": "python",
   "nbconvert_exporter": "python",
   "pygments_lexer": "ipython3",
   "version": "3.5.2"
  }
 },
 "nbformat": 4,
 "nbformat_minor": 2
}
