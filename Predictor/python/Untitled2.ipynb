{
 "cells": [
  {
   "cell_type": "code",
   "execution_count": 92,
   "metadata": {
    "collapsed": false
   },
   "outputs": [
    {
     "name": "stdout",
     "output_type": "stream",
     "text": [
      "[[6.00 148.00 33.60 0.63 50.00]\n",
      " [1.00 85.00 26.60 0.35 31.00]\n",
      " [8.00 183.00 23.30 0.67 32.00]\n",
      " [1.00 89.00 28.10 0.17 21.00]\n",
      " [0.00 137.00 43.10 2.29 33.00]\n",
      " [5.00 116.00 25.60 0.20 30.00]\n",
      " [3.00 78.00 31.00 0.25 26.00]\n",
      " [10.00 115.00 35.30 0.13 29.00]\n",
      " [2.00 197.00 30.50 0.16 53.00]\n",
      " [8.00 125.00 32.46 0.23 54.00]]\n"
     ]
    }
   ],
   "source": [
    "    import os\n",
    "    import sys\n",
    "    import numpy as np\n",
    "    import pandas as pd\n",
    "    import sklearn.preprocessing as pp\n",
    "    from sklearn.cross_validation import train_test_split\n",
    "    from sklearn import svm, linear_model, naive_bayes\n",
    "    import simplejson as json\n",
    "    from sklearn.model_selection import GridSearchCV\n",
    "    from sklearn.pipeline import make_union, make_pipeline\n",
    "    from sklearn.preprocessing import FunctionTransformer\n",
    "    from sklearn.base import BaseEstimator, TransformerMixin\n",
    "\n",
    "    # from https://medium.com/@literallywords/sklearn-identity-transformer-fcc18bac0e98\n",
    "    class IdentityTransformer(BaseEstimator, TransformerMixin):\n",
    "        def __init__(self):\n",
    "            pass\n",
    "\n",
    "        def fit(self, input_array, y=None):\n",
    "            return self\n",
    "\n",
    "        def transform(self, input_array, y=None):\n",
    "            return input_array * 1\n",
    "\n",
    "    # Get training data\n",
    "    df = pd.read_csv('pima-data.csv')\n",
    "    \n",
    "    float_formatter = lambda x: \"%.2f\" % x\n",
    "    np.set_printoptions(formatter={'float_kind':float_formatter})\n",
    "    \n",
    "    feature_col_names_fullset = ['num_preg', 'glucose_conc', 'diastolic_bp', 'thickness', 'insulin', 'bmi', 'diab_pred', 'age']\n",
    "    feature_col_names = ['num_preg', 'glucose_conc', 'bmi', 'diab_pred', 'age']\n",
    "    predicted_class_names = ['diabetes']\n",
    "    \n",
    "    x = df[feature_col_names].values\n",
    "    y = df[predicted_class_names].values\n",
    "    \n",
    "    fill_0 = pp.Imputer(missing_values=0, strategy=\"mean\", axis=0)\n",
    "    scaler = pp.StandardScaler()\n",
    "    \n",
    "    def get_invalid0_cols(df):\n",
    "        return df[['glucose_conc', 'bmi', 'diab_pred','age']]\n",
    "\n",
    "    def get_valid0_cols(df):\n",
    "        return df[['num_preg']]\n",
    "\n",
    "    vec = make_union(*[\n",
    "        make_pipeline(FunctionTransformer(get_valid0_cols, validate=False), IdentityTransformer()),\n",
    "        make_pipeline(FunctionTransformer(get_invalid0_cols, validate=False), fill_0),\n",
    "        #make_pipeline(FunctionTransformer(get_num_cols, validate=False), scaler)\n",
    "    ])\n",
    "    \n",
    "    x = vec.fit_transform(df)\n",
    "    #x = scaler.fit_transform(x)\n",
    "    \n",
    "    split_test_size = 0.20\n",
    "    x_train, x_test, y_train, y_test = train_test_split(x, y, test_size=split_test_size, random_state=73) \n",
    "    \n",
    "    "
   ]
  },
  {
   "cell_type": "code",
   "execution_count": null,
   "metadata": {
    "collapsed": true
   },
   "outputs": [],
   "source": []
  }
 ],
 "metadata": {
  "anaconda-cloud": {},
  "kernelspec": {
   "display_name": "Python [default]",
   "language": "python",
   "name": "python3"
  },
  "language_info": {
   "codemirror_mode": {
    "name": "ipython",
    "version": 3
   },
   "file_extension": ".py",
   "mimetype": "text/x-python",
   "name": "python",
   "nbconvert_exporter": "python",
   "pygments_lexer": "ipython3",
   "version": "3.5.2"
  }
 },
 "nbformat": 4,
 "nbformat_minor": 1
}
